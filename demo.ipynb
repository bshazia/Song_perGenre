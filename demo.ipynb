{
 "cells": [
  {
   "cell_type": "code",
   "execution_count": 1,
   "id": "3f9d18cc",
   "metadata": {},
   "outputs": [],
   "source": [
    "from NextSong.welcom import welcome\n",
    "from NextSong.search_song import SearchSong\n",
    "from NextSong.random_song import randomsong\n",
    "from NextSong.highestRating import highestRSong"
   ]
  },
  {
   "cell_type": "code",
   "execution_count": 2,
   "id": "1366bdbe",
   "metadata": {},
   "outputs": [
    {
     "name": "stdout",
     "output_type": "stream",
     "text": [
      "\t\t Welcome to the Next Song generator. Here you can find Songs based on the highest rated song of the year,your own keyword or a completely random song. \n",
      "\n",
      " Enjoy !!!\n"
     ]
    }
   ],
   "source": [
    "welcome = welcome()\n",
    "welcome.welcome()"
   ]
  },
  {
   "cell_type": "code",
   "execution_count": 6,
   "id": "6547181a",
   "metadata": {},
   "outputs": [
    {
     "name": "stdout",
     "output_type": "stream",
     "text": [
      "ocean\n",
      "title:  Ocean Avenue\n",
      "artist: Yellowcard\n",
      "likes:  55k\n",
      "Views : 79.1K\n",
      "contributers on Ginius.com:  22\n",
      "album cover: \n"
     ]
    }
   ],
   "source": [
    "sersong = SearchSong()\n",
    "sersong.getInput()"
   ]
  },
  {
   "cell_type": "code",
   "execution_count": 7,
   "id": "545eacd8",
   "metadata": {},
   "outputs": [
    {
     "name": "stdout",
     "output_type": "stream",
     "text": [
      "title:  If I Ain't Got You\n",
      "artist: Alicia Keys\n",
      "likes:  55k\n",
      "Views : 1.1M\n",
      "contributers on Ginius.com:  54\n",
      "album cover: \n"
     ]
    }
   ],
   "source": [
    "rdsong = randomsong()\n",
    "rdsong.getSong()"
   ]
  },
  {
   "cell_type": "code",
   "execution_count": 8,
   "id": "4e43acc2",
   "metadata": {},
   "outputs": [
    {
     "ename": "NameError",
     "evalue": "name 'song' is not defined",
     "output_type": "error",
     "traceback": [
      "\u001b[0;31m---------------------------------------------------------------------------\u001b[0m",
      "\u001b[0;31mNameError\u001b[0m                                 Traceback (most recent call last)",
      "\u001b[0;32m/var/folders/y3/dz0fw91949n08kl1j6nxbd040000gn/T/ipykernel_88909/4101105247.py\u001b[0m in \u001b[0;36m<module>\u001b[0;34m\u001b[0m\n\u001b[1;32m      1\u001b[0m \u001b[0mhigheSong\u001b[0m \u001b[0;34m=\u001b[0m \u001b[0mhighestRSong\u001b[0m\u001b[0;34m(\u001b[0m\u001b[0;34m)\u001b[0m\u001b[0;34m\u001b[0m\u001b[0;34m\u001b[0m\u001b[0m\n\u001b[0;32m----> 2\u001b[0;31m \u001b[0mhigheSong\u001b[0m\u001b[0;34m.\u001b[0m\u001b[0mget_rating\u001b[0m\u001b[0;34m(\u001b[0m\u001b[0;34m)\u001b[0m\u001b[0;34m\u001b[0m\u001b[0;34m\u001b[0m\u001b[0m\n\u001b[0m",
      "\u001b[0;32m~/Desktop/Study/Thomas_More/semster 3/Scripting/Assignment/Song_Take_home/NextSong/highestRating.py\u001b[0m in \u001b[0;36mget_rating\u001b[0;34m(self)\u001b[0m\n\u001b[1;32m     22\u001b[0m \u001b[0;34m\u001b[0m\u001b[0m\n\u001b[1;32m     23\u001b[0m         \u001b[0;32mfor\u001b[0m \u001b[0mit\u001b[0m \u001b[0;32min\u001b[0m \u001b[0mjtxt\u001b[0m\u001b[0;34m[\u001b[0m\u001b[0;34m\"tracks\"\u001b[0m\u001b[0;34m]\u001b[0m\u001b[0;34m[\u001b[0m\u001b[0;34m\"items\"\u001b[0m\u001b[0;34m]\u001b[0m\u001b[0;34m:\u001b[0m\u001b[0;34m\u001b[0m\u001b[0;34m\u001b[0m\u001b[0m\n\u001b[0;32m---> 24\u001b[0;31m             \u001b[0msong\u001b[0m\u001b[0;34m.\u001b[0m\u001b[0mtitle\u001b[0m \u001b[0;34m=\u001b[0m \u001b[0mit\u001b[0m\u001b[0;34m[\u001b[0m\u001b[0;34m'data'\u001b[0m\u001b[0;34m]\u001b[0m\u001b[0;34m[\u001b[0m\u001b[0;34m'name'\u001b[0m\u001b[0;34m]\u001b[0m\u001b[0;34m\u001b[0m\u001b[0;34m\u001b[0m\u001b[0m\n\u001b[0m\u001b[1;32m     25\u001b[0m             \u001b[0msong\u001b[0m\u001b[0;34m.\u001b[0m\u001b[0martist\u001b[0m \u001b[0;34m=\u001b[0m \u001b[0mit\u001b[0m\u001b[0;34m[\u001b[0m\u001b[0;34m'data'\u001b[0m\u001b[0;34m]\u001b[0m\u001b[0;34m[\u001b[0m\u001b[0;34m'artists'\u001b[0m\u001b[0;34m]\u001b[0m\u001b[0;34m[\u001b[0m\u001b[0;34m\"items\"\u001b[0m\u001b[0;34m]\u001b[0m\u001b[0;34m[\u001b[0m\u001b[0;36m0\u001b[0m\u001b[0;34m]\u001b[0m\u001b[0;34m[\u001b[0m\u001b[0;34m'profile'\u001b[0m\u001b[0;34m]\u001b[0m\u001b[0;34m[\u001b[0m\u001b[0;34m'name'\u001b[0m\u001b[0;34m]\u001b[0m\u001b[0;34m\u001b[0m\u001b[0;34m\u001b[0m\u001b[0m\n\u001b[1;32m     26\u001b[0m \u001b[0;34m\u001b[0m\u001b[0m\n",
      "\u001b[0;31mNameError\u001b[0m: name 'song' is not defined"
     ]
    }
   ],
   "source": [
    "higheSong = highestRSong()\n",
    "higheSong.get_rating()"
   ]
  },
  {
   "cell_type": "code",
   "execution_count": null,
   "id": "c3af0a25",
   "metadata": {},
   "outputs": [],
   "source": []
  }
 ],
 "metadata": {
  "kernelspec": {
   "display_name": "Python 3 (ipykernel)",
   "language": "python",
   "name": "python3"
  },
  "language_info": {
   "codemirror_mode": {
    "name": "ipython",
    "version": 3
   },
   "file_extension": ".py",
   "mimetype": "text/x-python",
   "name": "python",
   "nbconvert_exporter": "python",
   "pygments_lexer": "ipython3",
   "version": "3.9.7"
  }
 },
 "nbformat": 4,
 "nbformat_minor": 5
}
