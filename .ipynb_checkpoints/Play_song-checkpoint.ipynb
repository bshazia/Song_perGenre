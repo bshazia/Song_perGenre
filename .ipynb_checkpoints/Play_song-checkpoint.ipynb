{
 "cells": [
  {
   "cell_type": "code",
   "execution_count": 229,
   "id": "4e59e6ee",
   "metadata": {},
   "outputs": [],
   "source": [
    "import re\n",
    "import vlc\n",
    "import json\n",
    "import requests\n",
    "from PIL import Image\n",
    "from bs4 import BeautifulSoup"
   ]
  },
  {
   "cell_type": "code",
   "execution_count": 230,
   "id": "fa3f4705",
   "metadata": {},
   "outputs": [],
   "source": [
    "url = requests.get(\"https://www.chosic.com/genre-chart/rhythm-and-blues/\")"
   ]
  },
  {
   "cell_type": "code",
   "execution_count": 231,
   "id": "98320115",
   "metadata": {},
   "outputs": [],
   "source": [
    "# url.text"
   ]
  },
  {
   "cell_type": "code",
   "execution_count": 232,
   "id": "666290e2",
   "metadata": {},
   "outputs": [],
   "source": [
    "art_text = BeautifulSoup(url.text, 'html.parser')\n",
    "span = art_text.find('div', {'class': 'track-list-item-right suggest-player'})['data-previewurl']\n",
    "# span"
   ]
  },
  {
   "cell_type": "code",
   "execution_count": 233,
   "id": "41c44a4c",
   "metadata": {},
   "outputs": [
    {
     "data": {
      "text/plain": [
       "0"
      ]
     },
     "execution_count": 233,
     "metadata": {},
     "output_type": "execute_result"
    }
   ],
   "source": [
    "p = vlc.MediaPlayer(span)\n",
    "p.play()\n"
   ]
  },
  {
   "cell_type": "code",
   "execution_count": 234,
   "id": "a5b20a9f",
   "metadata": {},
   "outputs": [],
   "source": [
    "p.stop()"
   ]
  },
  {
   "cell_type": "code",
   "execution_count": 235,
   "id": "6fde9715",
   "metadata": {},
   "outputs": [],
   "source": [
    "from random_song import randomSong"
   ]
  },
  {
   "cell_type": "code",
   "execution_count": 236,
   "id": "834d2abb",
   "metadata": {},
   "outputs": [
    {
     "data": {
      "text/plain": [
       "('Alicia Keys',\n",
       " 'No One',\n",
       " <PIL.JpegImagePlugin.JpegImageFile image mode=RGB size=160x160 at 0x7FD24A58FEE0>)"
      ]
     },
     "execution_count": 236,
     "metadata": {},
     "output_type": "execute_result"
    }
   ],
   "source": [
    "randomSong = randomSong()\n",
    "randomSong.getSong()"
   ]
  },
  {
   "cell_type": "code",
   "execution_count": 237,
   "id": "4de4d05d",
   "metadata": {},
   "outputs": [],
   "source": [
    "from views import View"
   ]
  },
  {
   "cell_type": "code",
   "execution_count": 238,
   "id": "1edfe757",
   "metadata": {},
   "outputs": [],
   "source": [
    "View = View()"
   ]
  },
  {
   "cell_type": "code",
   "execution_count": 239,
   "id": "9b23c393",
   "metadata": {},
   "outputs": [
    {
     "ename": "TypeError",
     "evalue": "getView() takes 0 positional arguments but 1 was given",
     "output_type": "error",
     "traceback": [
      "\u001b[0;31m---------------------------------------------------------------------------\u001b[0m",
      "\u001b[0;31mTypeError\u001b[0m                                 Traceback (most recent call last)",
      "\u001b[0;32m/var/folders/y3/dz0fw91949n08kl1j6nxbd040000gn/T/ipykernel_41730/721650224.py\u001b[0m in \u001b[0;36m<module>\u001b[0;34m\u001b[0m\n\u001b[0;32m----> 1\u001b[0;31m \u001b[0mView\u001b[0m\u001b[0;34m.\u001b[0m\u001b[0mgetView\u001b[0m\u001b[0;34m(\u001b[0m\u001b[0;34m)\u001b[0m\u001b[0;34m\u001b[0m\u001b[0;34m\u001b[0m\u001b[0m\n\u001b[0m",
      "\u001b[0;31mTypeError\u001b[0m: getView() takes 0 positional arguments but 1 was given"
     ]
    }
   ],
   "source": [
    "View.getiew()"
   ]
  },
  {
   "cell_type": "code",
   "execution_count": null,
   "id": "6f9f9954",
   "metadata": {},
   "outputs": [],
   "source": []
  }
 ],
 "metadata": {
  "kernelspec": {
   "display_name": "Python 3 (ipykernel)",
   "language": "python",
   "name": "python3"
  },
  "language_info": {
   "codemirror_mode": {
    "name": "ipython",
    "version": 3
   },
   "file_extension": ".py",
   "mimetype": "text/x-python",
   "name": "python",
   "nbconvert_exporter": "python",
   "pygments_lexer": "ipython3",
   "version": "3.9.7"
  }
 },
 "nbformat": 4,
 "nbformat_minor": 5
}
