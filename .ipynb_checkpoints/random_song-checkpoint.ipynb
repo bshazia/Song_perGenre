{
 "cells": [
  {
   "cell_type": "markdown",
   "id": "2f0ef1aa",
   "metadata": {},
   "source": [
    "Your package contains 3 different methods:\n",
    " method 1 returns a random new song \n",
    " method 2 returns the highest rated song (you choose your own rating mechanism)\n",
    " method 3 returns a song based upon an inserted search (key) word\n",
    "Per book you need to show the following attributes:\n",
    " Title\n",
    " Author\n",
    " 2 different scores\n",
    " Cover of the album"
   ]
  },
  {
   "cell_type": "code",
   "execution_count": 104,
   "id": "22f1bf7c",
   "metadata": {},
   "outputs": [],
   "source": [
    "import requests\n",
    "import json\n",
    "from PIL import Image\n",
    "import requests\n",
    "from bs4 import BeautifulSoup"
   ]
  },
  {
   "cell_type": "code",
   "execution_count": 105,
   "id": "8d719e81",
   "metadata": {},
   "outputs": [],
   "source": [
    "random_song_url = requests.get(\"http://www.songlyrics.com/r-and-b-lyrics.php\")"
   ]
  },
  {
   "cell_type": "code",
   "execution_count": 106,
   "id": "0c39cf16",
   "metadata": {},
   "outputs": [],
   "source": [
    "#make it beautiful, remove the trash\n",
    "entire_table = BeautifulSoup(random_song_url.text, features=\"html.parser\").find('tbody')"
   ]
  },
  {
   "cell_type": "code",
   "execution_count": 127,
   "id": "0bea49ec",
   "metadata": {
    "scrolled": false
   },
   "outputs": [
    {
     "name": "stdout",
     "output_type": "stream",
     "text": [
      "<tbody>\n",
      "<tr>\n",
      "<td class=\"td-iter-big\" width=\"40\">1</td>\n",
      "<td class=\"td-item\" width=\"45\"><a href=\"http://www.songlyrics.com/beyonce-knowles/halo-lyrics/\" title=\"Halo Lyrics Beyonce Knowles\"><img alt=\"Halo Lyrics Beyonce Knowles\" class=\"tiny-img\" height=\"45\" src=\"http://cdn2.songlyricscom.netdna-cdn.com/album_covers/83/beyonce-knowles-i-am-sasha-fierce/beyonce-knowles-36548-i-am-sasha-fierce.jpg\" width=\"45\"/></a></td>\n",
      "<td class=\"td-item td-last\"><h3><a href=\"http://www.songlyrics.com/beyonce-knowles/halo-lyrics/\" title=\"Beyonce Knowles - Halo Lyrics\">Halo</a></h3><span>Beyonce Knowles</span></td>\n",
      "</tr>\n",
      "<tr>\n",
      "<td class=\"td-iter-big\" width=\"40\">2</td>\n",
      "<td class=\"td-item\" width=\"45\"><a href=\"http://www.songlyrics.com/michael-jackson/billie-jean-lyrics/\" title=\"Billie Jean Lyrics Michael Jackson\"><img alt=\"Billie Jean Lyrics Michael Jackson\" class=\"tiny-img\" height=\"45\" src=\"http://cdn1.songlyricscom.netdna-cdn.com/album_covers/2/michael-jackson/michael-jackson-22187.jpg\" width=\"45\"/></a></td>\n",
      "<td class=\"td-item td-last\"><h3><a href=\"http://www.songlyrics.com/michael-jackson/billie-jean-lyrics/\" title=\"Michael Jackson - Billie Jean Lyrics\">Billie Jean</a></h3><span>Michael Jackson</span></td>\n",
      "</tr>\n",
      "<tr>\n",
      "<td class=\"td-iter-big\" width=\"40\">3</td>\n",
      "<td class=\"td-item\" width=\"45\"><a href=\"http://www.songlyrics.com/michael-jackson/beat-it-lyrics/\" title=\"Beat It Lyrics Michael Jackson\"><img alt=\"Beat It Lyrics Michael Jackson\" class=\"tiny-img\" height=\"45\" src=\"http://cdn1.songlyricscom.netdna-cdn.com/album_covers/2/michael-jackson/michael-jackson-22187.jpg\" width=\"45\"/></a></td>\n",
      "<td class=\"td-item td-last\"><h3><a href=\"http://www.songlyrics.com/michael-jackson/beat-it-lyrics/\" title=\"Michael Jackson - Beat It Lyrics\">Beat It</a></h3><span>Michael Jackson</span></td>\n",
      "</tr>\n",
      "<tr>\n",
      "<td class=\"td-iter-big\" width=\"40\">4</td>\n",
      "<td class=\"td-item\" width=\"45\"><a href=\"http://www.songlyrics.com/akon/beautiful-lyrics/\" title=\"Beautiful Lyrics Akon\"><img alt=\"Beautiful Lyrics Akon\" class=\"tiny-img\" height=\"45\" src=\"http://cdn1.songlyricscom.netdna-cdn.com/album_covers/243/akon-freedom/akon-36198-freedom.jpg\" width=\"45\"/></a></td>\n",
      "<td class=\"td-item td-last\"><h3><a href=\"http://www.songlyrics.com/akon/beautiful-lyrics/\" title=\"Akon - Beautiful Lyrics\">Beautiful</a></h3><span>Akon</span></td>\n",
      "</tr>\n",
      "<tr>\n",
      "<td class=\"td-iter-big\" width=\"40\">5</td>\n",
      "<td class=\"td-item\" width=\"45\"><a href=\"http://www.songlyrics.com/rihanna/sm-lyrics/\" title=\"S&amp;M Lyrics Rihanna\"><img alt=\"S&amp;M Lyrics Rihanna\" class=\"tiny-img\" height=\"45\" src=\"http://cdn2.songlyricscom.netdna-cdn.com/album_covers/106/rihanna-loud/rihanna-31216-loud.jpg\" width=\"45\"/></a></td>\n",
      "<td class=\"td-item td-last\"><h3><a href=\"http://www.songlyrics.com/rihanna/sm-lyrics/\" title=\"Rihanna - S&amp;M Lyrics\">S&amp;M</a></h3><span>Rihanna</span></td>\n",
      "</tr>\n",
      "<tr>\n",
      "<td class=\"td-iter-big\" width=\"40\">6</td>\n",
      "<td class=\"td-item\" width=\"45\"><a href=\"http://www.songlyrics.com/michael-jackson/heal-the-world-lyrics/\" title=\"Heal The World Lyrics Michael Jackson\"><img alt=\"Heal The World Lyrics Michael Jackson\" class=\"tiny-img\" height=\"45\" src=\"http://cdn2.songlyricscom.netdna-cdn.com/album_covers/2/michael-jackson/michael-jackson-22187.jpg\" width=\"45\"/></a></td>\n",
      "<td class=\"td-item td-last\"><h3><a href=\"http://www.songlyrics.com/michael-jackson/heal-the-world-lyrics/\" title=\"Michael Jackson - Heal The World Lyrics\">Heal The World</a></h3><span>Michael Jackson</span></td>\n",
      "</tr>\n",
      "<tr>\n",
      "<td class=\"td-iter-big\" width=\"40\">7</td>\n",
      "<td class=\"td-item\" width=\"45\"><a href=\"http://www.songlyrics.com/akon/smack-that-lyrics/\" title=\"Smack That Lyrics Akon\"><img alt=\"Smack That Lyrics Akon\" class=\"tiny-img\" height=\"45\" src=\"http://cdn1.songlyricscom.netdna-cdn.com/album_covers/68/akon-konvicted/akon-45203-konvicted.jpg\" width=\"45\"/></a></td>\n",
      "<td class=\"td-item td-last\"><h3><a href=\"http://www.songlyrics.com/akon/smack-that-lyrics/\" title=\"Akon - Smack That Lyrics\">Smack That</a></h3><span>Akon</span></td>\n",
      "</tr>\n",
      "<tr>\n",
      "<td class=\"td-iter-big\" width=\"40\">8</td>\n",
      "<td class=\"td-item\" width=\"45\"><a href=\"http://www.songlyrics.com/mike-posner/cooler-than-me-single-remix-lyrics/\" title=\"Cooler Than Me (Single Remix) Lyrics Mike Posner\"><img alt=\"Cooler Than Me (Single Remix) Lyrics Mike Posner\" class=\"tiny-img\" height=\"45\" src=\"http://cdn2.songlyricscom.netdna-cdn.com/album_covers/219/mike-posner-31-minutes-to-takeoff/mike-posner-60654-31-minutes-to-takeoff.jpg\" width=\"45\"/></a></td>\n",
      "<td class=\"td-item td-last\"><h3><a href=\"http://www.songlyrics.com/mike-posner/cooler-than-me-single-remix-lyrics/\" title=\"Mike Posner - Cooler Than Me (Single Remix) Lyrics\">Cooler Than Me (Single Remix)</a></h3><span>Mike Posner</span></td>\n",
      "</tr>\n",
      "<tr>\n",
      "<td class=\"td-iter-big\" width=\"40\">9</td>\n",
      "<td class=\"td-item\" width=\"45\"><a href=\"http://www.songlyrics.com/aretha-franklin/respect-lyrics/\" title=\"Respect Lyrics Aretha Franklin\"><img alt=\"Respect Lyrics Aretha Franklin\" class=\"tiny-img\" height=\"45\" src=\"http://cdn2.songlyricscom.netdna-cdn.com/album_covers/251/aretha-franklin/aretha-franklin-16826.jpg\" width=\"45\"/></a></td>\n",
      "<td class=\"td-item td-last\"><h3><a href=\"http://www.songlyrics.com/aretha-franklin/respect-lyrics/\" title=\"Aretha Franklin - Respect Lyrics\">Respect</a></h3><span>Aretha Franklin</span></td>\n",
      "</tr>\n",
      "<tr>\n",
      "<td class=\"td-iter-big\" width=\"40\">10</td>\n",
      "<td class=\"td-item\" width=\"45\"><a href=\"http://www.songlyrics.com/whitney-houston/i-look-to-you-lyrics/\" title=\"I Look To You Lyrics Whitney Houston\"><img alt=\"I Look To You Lyrics Whitney Houston\" class=\"tiny-img\" height=\"45\" src=\"http://cdn2.songlyricscom.netdna-cdn.com/album_covers/188/whitney-houston-i-look-to-you/whitney-houston-41753-i-look-to-you.jpg\" width=\"45\"/></a></td>\n",
      "<td class=\"td-item td-last\"><h3><a href=\"http://www.songlyrics.com/whitney-houston/i-look-to-you-lyrics/\" title=\"Whitney Houston - I Look To You Lyrics\">I Look To You</a></h3><span>Whitney Houston</span></td>\n",
      "</tr>\n",
      "<tr>\n",
      "<td class=\"td-iter-big\" width=\"40\">11</td>\n",
      "<td class=\"td-item\" width=\"45\"><a href=\"http://www.songlyrics.com/john-legend/ordinary-people-lyrics/\" title=\"Ordinary People Lyrics John Legend\"><img alt=\"Ordinary People Lyrics John Legend\" class=\"tiny-img\" height=\"45\" src=\"http://cdn1.songlyricscom.netdna-cdn.com/album_covers/6/john-legend-get-lifted/john-legend-30096-get-lifted.jpg\" width=\"45\"/></a></td>\n",
      "<td class=\"td-item td-last\"><h3><a href=\"http://www.songlyrics.com/john-legend/ordinary-people-lyrics/\" title=\"John Legend - Ordinary People Lyrics\">Ordinary People</a></h3><span>John Legend</span></td>\n",
      "</tr>\n",
      "<tr>\n",
      "<td class=\"td-iter-big\" width=\"40\">12</td>\n",
      "<td class=\"td-item\" width=\"45\"><a href=\"http://www.songlyrics.com/walker-chris/how-do-you-heal-a-broken-heart-lyrics/\" title=\"How Do You Heal A Broken Heart Lyrics Walker Chris\"><img alt=\"How Do You Heal A Broken Heart Lyrics Walker Chris\" class=\"tiny-img\" height=\"45\" src=\"http://cdn1.songlyricscom.netdna-cdn.com/album_covers/37/walker-chris-sincerely-yours/walker-chris-7177-sincerely-yours.jpg\" width=\"45\"/></a></td>\n",
      "<td class=\"td-item td-last\"><h3><a href=\"http://www.songlyrics.com/walker-chris/how-do-you-heal-a-broken-heart-lyrics/\" title=\"Walker Chris - How Do You Heal A Broken Heart Lyrics\">How Do You Heal A Broken Heart</a></h3><span>Walker Chris</span></td>\n",
      "</tr>\n",
      "<tr>\n",
      "<td class=\"td-iter-big\" width=\"40\">13</td>\n",
      "<td class=\"td-item\" width=\"45\"><a href=\"http://www.songlyrics.com/jeremih/birthday-sex-lyrics/\" title=\"Birthday Sex Lyrics Jeremih\"><img alt=\"Birthday Sex Lyrics Jeremih\" class=\"tiny-img\" height=\"45\" src=\"http://cdn1.songlyricscom.netdna-cdn.com/album_covers/26/jeremih-jeremih/jeremih-41336-jeremih.jpg\" width=\"45\"/></a></td>\n",
      "<td class=\"td-item td-last\"><h3><a href=\"http://www.songlyrics.com/jeremih/birthday-sex-lyrics/\" title=\"Jeremih - Birthday Sex Lyrics\">Birthday Sex</a></h3><span>Jeremih</span></td>\n",
      "</tr>\n",
      "<tr>\n",
      "<td class=\"td-iter-big\" width=\"40\">14</td>\n",
      "<td class=\"td-item\" width=\"45\"><a href=\"http://www.songlyrics.com/beyonce-knowles/listen-lyrics/\" title=\"Listen Lyrics Beyonce Knowles\"><img alt=\"Listen Lyrics Beyonce Knowles\" class=\"tiny-img\" height=\"45\" src=\"http://cdn2.songlyricscom.netdna-cdn.com/album_covers/8/beyonce-knowles-b-day/beyonce-knowles-50243-b-day.jpg\" width=\"45\"/></a></td>\n",
      "<td class=\"td-item td-last\"><h3><a href=\"http://www.songlyrics.com/beyonce-knowles/listen-lyrics/\" title=\"Beyonce Knowles - Listen Lyrics\">Listen</a></h3><span>Beyonce Knowles</span></td>\n",
      "</tr>\n",
      "<tr>\n",
      "<td class=\"td-iter-big\" width=\"40\">15</td>\n",
      "<td class=\"td-item\" width=\"45\"><a href=\"http://www.songlyrics.com/kenny-lattimore/for-you-lyrics/\" title=\"For You Lyrics Kenny Lattimore\"><img alt=\"For You Lyrics Kenny Lattimore\" class=\"tiny-img\" height=\"45\" src=\"http://cdn2.songlyricscom.netdna-cdn.com/album_covers/68/kenny-lattimore/kenny-lattimore-15878.jpg\" width=\"45\"/></a></td>\n",
      "<td class=\"td-item td-last\"><h3><a href=\"http://www.songlyrics.com/kenny-lattimore/for-you-lyrics/\" title=\"Kenny Lattimore - For You Lyrics\">For You</a></h3><span>Kenny Lattimore</span></td>\n",
      "</tr>\n",
      "<tr>\n",
      "<td class=\"td-iter-big\" width=\"40\">16</td>\n",
      "<td class=\"td-item\" width=\"45\"><a href=\"http://www.songlyrics.com/alicia-keys/no-one-lyrics/\" title=\"No One Lyrics Alicia Keys\"><img alt=\"No One Lyrics Alicia Keys\" class=\"tiny-img\" height=\"45\" src=\"http://cdn1.songlyricscom.netdna-cdn.com/album_covers/150/alicia-keys/alicia-keys-2190.jpg\" width=\"45\"/></a></td>\n",
      "<td class=\"td-item td-last\"><h3><a href=\"http://www.songlyrics.com/alicia-keys/no-one-lyrics/\" title=\"Alicia Keys - No One Lyrics\">No One</a></h3><span>Alicia Keys</span></td>\n",
      "</tr>\n",
      "<tr>\n",
      "<td class=\"td-iter-big\" width=\"40\">17</td>\n",
      "<td class=\"td-item\" width=\"45\"><a href=\"http://www.songlyrics.com/stevie-wonder/as-lyrics/\" title=\"As Lyrics Stevie Wonder\"><img alt=\"As Lyrics Stevie Wonder\" class=\"tiny-img\" height=\"45\" src=\"http://cdn1.songlyricscom.netdna-cdn.com/album_covers/203/stevie-wonder/stevie-wonder-69308.jpg\" width=\"45\"/></a></td>\n",
      "<td class=\"td-item td-last\"><h3><a href=\"http://www.songlyrics.com/stevie-wonder/as-lyrics/\" title=\"Stevie Wonder - As Lyrics\">As</a></h3><span>Stevie Wonder</span></td>\n",
      "</tr>\n",
      "<tr>\n",
      "<td class=\"td-iter-big\" width=\"40\">18</td>\n",
      "<td class=\"td-item\" width=\"45\"><a href=\"http://www.songlyrics.com/michael-jackson/black-or-white-lyrics/\" title=\"Black or White Lyrics Michael Jackson\"><img alt=\"Black or White Lyrics Michael Jackson\" class=\"tiny-img\" height=\"45\" src=\"http://cdn2.songlyricscom.netdna-cdn.com/album_covers/2/michael-jackson/michael-jackson-22187.jpg\" width=\"45\"/></a></td>\n",
      "<td class=\"td-item td-last\"><h3><a href=\"http://www.songlyrics.com/michael-jackson/black-or-white-lyrics/\" title=\"Michael Jackson - Black or White Lyrics\">Black or White</a></h3><span>Michael Jackson</span></td>\n",
      "</tr>\n",
      "<tr>\n",
      "<td class=\"td-iter-big\" width=\"40\">19</td>\n",
      "<td class=\"td-item\" width=\"45\"><a href=\"http://www.songlyrics.com/jessie-j/who-you-are-lyrics/\" title=\"Who You Are Lyrics Jessie J\"><img alt=\"Who You Are Lyrics Jessie J\" class=\"tiny-img\" height=\"45\" src=\"http://cdn2.songlyricscom.netdna-cdn.com/album_covers/154/jessie-j-who-you-are/jessie-j-63904-who-you-are.jpg\" width=\"45\"/></a></td>\n",
      "<td class=\"td-item td-last\"><h3><a href=\"http://www.songlyrics.com/jessie-j/who-you-are-lyrics/\" title=\"Jessie J - Who You Are Lyrics\">Who You Are</a></h3><span>Jessie J</span></td>\n",
      "</tr>\n",
      "<tr>\n",
      "<td class=\"td-iter-big\" width=\"40\">20</td>\n",
      "<td class=\"td-item\" width=\"45\"><a href=\"http://www.songlyrics.com/alicia-keys/if-i-ain-t-got-you-lyrics/\" title=\"If I Ain't Got You Lyrics Alicia Keys\"><img alt=\"If I Ain't Got You Lyrics Alicia Keys\" class=\"tiny-img\" height=\"45\" src=\"http://cdn2.songlyricscom.netdna-cdn.com/album_covers/80/alicia-keys-the-diary-of-alicia-keys/alicia-keys-28640-the-diary-of-alicia-keys.jpg\" width=\"45\"/></a></td>\n",
      "<td class=\"td-item td-last\"><h3><a href=\"http://www.songlyrics.com/alicia-keys/if-i-ain-t-got-you-lyrics/\" title=\"Alicia Keys - If I Ain't Got You Lyrics\">If I Ain't Got You</a></h3><span>Alicia Keys</span></td>\n",
      "</tr>\n",
      "</tbody>\n"
     ]
    }
   ],
   "source": [
    "print(entire_table)"
   ]
  },
  {
   "cell_type": "code",
   "execution_count": 135,
   "id": "a9006322",
   "metadata": {},
   "outputs": [],
   "source": [
    "items = []"
   ]
  },
  {
   "cell_type": "code",
   "execution_count": 146,
   "id": "affeae85",
   "metadata": {},
   "outputs": [
    {
     "name": "stdout",
     "output_type": "stream",
     "text": [
      "Halo Beyonce Knowles\n",
      "Billie Jean Michael Jackson\n",
      "Beat It Michael Jackson\n",
      "Beautiful Akon\n",
      "S&M Rihanna\n",
      "Heal The World Michael Jackson\n",
      "Smack That Akon\n",
      "Cooler Than Me (Single Remix) Mike Posner\n",
      "Respect Aretha Franklin\n",
      "I Look To You Whitney Houston\n",
      "Ordinary People John Legend\n",
      "How Do You Heal A Broken Heart Walker Chris\n",
      "Birthday Sex Jeremih\n",
      "Listen Beyonce Knowles\n",
      "For You Kenny Lattimore\n",
      "No One Alicia Keys\n",
      "As Stevie Wonder\n",
      "Black or White Michael Jackson\n",
      "Who You Are Jessie J\n",
      "If I Ain't Got You Alicia Keys\n"
     ]
    }
   ],
   "source": [
    "for el in entire_table.findAll('tr'):\n",
    "    daterow = entire_table.find('td')\n",
    "    if daterow is None:     # not a date - get headline and link\n",
    "        song_title = el.find('h3').text\n",
    "        artist_name = el.find('span').text\n",
    "        items.append((song_title,artist_name))\n",
    "        print(song_title,artist_name)"
   ]
  },
  {
   "cell_type": "code",
   "execution_count": null,
   "id": "7345223c",
   "metadata": {},
   "outputs": [],
   "source": []
  },
  {
   "cell_type": "code",
   "execution_count": 147,
   "id": "44828edd",
   "metadata": {},
   "outputs": [
    {
     "name": "stdout",
     "output_type": "stream",
     "text": [
      "[('Halo Lyrics Beyonce Knowles', 'http://www.songlyrics.com/beyonce-knowles/halo-lyrics/'), ('Billie Jean Lyrics Michael Jackson', 'http://www.songlyrics.com/michael-jackson/billie-jean-lyrics/'), ('Beat It Lyrics Michael Jackson', 'http://www.songlyrics.com/michael-jackson/beat-it-lyrics/'), ('Beautiful Lyrics Akon', 'http://www.songlyrics.com/akon/beautiful-lyrics/'), ('S&M Lyrics Rihanna', 'http://www.songlyrics.com/rihanna/sm-lyrics/'), ('Heal The World Lyrics Michael Jackson', 'http://www.songlyrics.com/michael-jackson/heal-the-world-lyrics/'), ('Smack That Lyrics Akon', 'http://www.songlyrics.com/akon/smack-that-lyrics/'), ('Cooler Than Me (Single Remix) Lyrics Mike Posner', 'http://www.songlyrics.com/mike-posner/cooler-than-me-single-remix-lyrics/'), ('Respect Lyrics Aretha Franklin', 'http://www.songlyrics.com/aretha-franklin/respect-lyrics/'), ('I Look To You Lyrics Whitney Houston', 'http://www.songlyrics.com/whitney-houston/i-look-to-you-lyrics/'), ('Ordinary People Lyrics John Legend', 'http://www.songlyrics.com/john-legend/ordinary-people-lyrics/'), ('How Do You Heal A Broken Heart Lyrics Walker Chris', 'http://www.songlyrics.com/walker-chris/how-do-you-heal-a-broken-heart-lyrics/'), ('Birthday Sex Lyrics Jeremih', 'http://www.songlyrics.com/jeremih/birthday-sex-lyrics/'), ('Listen Lyrics Beyonce Knowles', 'http://www.songlyrics.com/beyonce-knowles/listen-lyrics/'), ('For You Lyrics Kenny Lattimore', 'http://www.songlyrics.com/kenny-lattimore/for-you-lyrics/'), ('No One Lyrics Alicia Keys', 'http://www.songlyrics.com/alicia-keys/no-one-lyrics/'), ('As Lyrics Stevie Wonder', 'http://www.songlyrics.com/stevie-wonder/as-lyrics/'), ('Black or White Lyrics Michael Jackson', 'http://www.songlyrics.com/michael-jackson/black-or-white-lyrics/'), ('Who You Are Lyrics Jessie J', 'http://www.songlyrics.com/jessie-j/who-you-are-lyrics/'), (\"If I Ain't Got You Lyrics Alicia Keys\", 'http://www.songlyrics.com/alicia-keys/if-i-ain-t-got-you-lyrics/'), ('Halo', 'http://www.songlyrics.com/beyonce-knowles/halo-lyrics/'), ('Billie Jean', 'http://www.songlyrics.com/michael-jackson/billie-jean-lyrics/'), ('Beat It', 'http://www.songlyrics.com/michael-jackson/beat-it-lyrics/'), ('Beautiful', 'http://www.songlyrics.com/akon/beautiful-lyrics/'), ('S&M', 'http://www.songlyrics.com/rihanna/sm-lyrics/'), ('Heal The World', 'http://www.songlyrics.com/michael-jackson/heal-the-world-lyrics/'), ('Smack That', 'http://www.songlyrics.com/akon/smack-that-lyrics/'), ('Cooler Than Me (Single Remix)', 'http://www.songlyrics.com/mike-posner/cooler-than-me-single-remix-lyrics/'), ('Respect', 'http://www.songlyrics.com/aretha-franklin/respect-lyrics/'), ('I Look To You', 'http://www.songlyrics.com/whitney-houston/i-look-to-you-lyrics/'), ('Ordinary People', 'http://www.songlyrics.com/john-legend/ordinary-people-lyrics/'), ('How Do You Heal A Broken Heart', 'http://www.songlyrics.com/walker-chris/how-do-you-heal-a-broken-heart-lyrics/'), ('Birthday Sex', 'http://www.songlyrics.com/jeremih/birthday-sex-lyrics/'), ('Listen', 'http://www.songlyrics.com/beyonce-knowles/listen-lyrics/'), ('For You', 'http://www.songlyrics.com/kenny-lattimore/for-you-lyrics/'), ('No One', 'http://www.songlyrics.com/alicia-keys/no-one-lyrics/'), ('As', 'http://www.songlyrics.com/stevie-wonder/as-lyrics/'), ('Black or White', 'http://www.songlyrics.com/michael-jackson/black-or-white-lyrics/'), ('Who You Are', 'http://www.songlyrics.com/jessie-j/who-you-are-lyrics/'), (\"If I Ain't Got You\", 'http://www.songlyrics.com/alicia-keys/if-i-ain-t-got-you-lyrics/'), ('Halo', 'http://www.songlyrics.com/beyonce-knowles/halo-lyrics/'), ('Billie Jean', 'http://www.songlyrics.com/michael-jackson/billie-jean-lyrics/'), ('Beat It', 'http://www.songlyrics.com/michael-jackson/beat-it-lyrics/'), ('Beautiful', 'http://www.songlyrics.com/akon/beautiful-lyrics/'), ('S&M', 'http://www.songlyrics.com/rihanna/sm-lyrics/'), ('Heal The World', 'http://www.songlyrics.com/michael-jackson/heal-the-world-lyrics/'), ('Smack That', 'http://www.songlyrics.com/akon/smack-that-lyrics/'), ('Cooler Than Me (Single Remix)', 'http://www.songlyrics.com/mike-posner/cooler-than-me-single-remix-lyrics/'), ('Respect', 'http://www.songlyrics.com/aretha-franklin/respect-lyrics/'), ('I Look To You', 'http://www.songlyrics.com/whitney-houston/i-look-to-you-lyrics/'), ('Ordinary People', 'http://www.songlyrics.com/john-legend/ordinary-people-lyrics/'), ('How Do You Heal A Broken Heart', 'http://www.songlyrics.com/walker-chris/how-do-you-heal-a-broken-heart-lyrics/'), ('Birthday Sex', 'http://www.songlyrics.com/jeremih/birthday-sex-lyrics/'), ('Listen', 'http://www.songlyrics.com/beyonce-knowles/listen-lyrics/'), ('For You', 'http://www.songlyrics.com/kenny-lattimore/for-you-lyrics/'), ('No One', 'http://www.songlyrics.com/alicia-keys/no-one-lyrics/'), ('As', 'http://www.songlyrics.com/stevie-wonder/as-lyrics/'), ('Black or White', 'http://www.songlyrics.com/michael-jackson/black-or-white-lyrics/'), ('Who You Are', 'http://www.songlyrics.com/jessie-j/who-you-are-lyrics/'), (\"If I Ain't Got You\", 'http://www.songlyrics.com/alicia-keys/if-i-ain-t-got-you-lyrics/'), ('Halo', 'http://www.songlyrics.com/beyonce-knowles/halo-lyrics/'), ('Billie Jean', 'http://www.songlyrics.com/michael-jackson/billie-jean-lyrics/'), ('Beat It', 'http://www.songlyrics.com/michael-jackson/beat-it-lyrics/'), ('Beautiful', 'http://www.songlyrics.com/akon/beautiful-lyrics/'), ('S&M', 'http://www.songlyrics.com/rihanna/sm-lyrics/'), ('Heal The World', 'http://www.songlyrics.com/michael-jackson/heal-the-world-lyrics/'), ('Smack That', 'http://www.songlyrics.com/akon/smack-that-lyrics/'), ('Cooler Than Me (Single Remix)', 'http://www.songlyrics.com/mike-posner/cooler-than-me-single-remix-lyrics/'), ('Respect', 'http://www.songlyrics.com/aretha-franklin/respect-lyrics/'), ('I Look To You', 'http://www.songlyrics.com/whitney-houston/i-look-to-you-lyrics/'), ('Ordinary People', 'http://www.songlyrics.com/john-legend/ordinary-people-lyrics/'), ('How Do You Heal A Broken Heart', 'http://www.songlyrics.com/walker-chris/how-do-you-heal-a-broken-heart-lyrics/'), ('Birthday Sex', 'http://www.songlyrics.com/jeremih/birthday-sex-lyrics/'), ('Listen', 'http://www.songlyrics.com/beyonce-knowles/listen-lyrics/'), ('For You', 'http://www.songlyrics.com/kenny-lattimore/for-you-lyrics/'), ('No One', 'http://www.songlyrics.com/alicia-keys/no-one-lyrics/'), ('As', 'http://www.songlyrics.com/stevie-wonder/as-lyrics/'), ('Black or White', 'http://www.songlyrics.com/michael-jackson/black-or-white-lyrics/'), ('Who You Are', 'http://www.songlyrics.com/jessie-j/who-you-are-lyrics/'), (\"If I Ain't Got You\", 'http://www.songlyrics.com/alicia-keys/if-i-ain-t-got-you-lyrics/'), ('Halo', 'http://www.songlyrics.com/beyonce-knowles/halo-lyrics/'), ('Billie Jean', 'http://www.songlyrics.com/michael-jackson/billie-jean-lyrics/'), ('Beat It', 'http://www.songlyrics.com/michael-jackson/beat-it-lyrics/'), ('Beautiful', 'http://www.songlyrics.com/akon/beautiful-lyrics/'), ('S&M', 'http://www.songlyrics.com/rihanna/sm-lyrics/'), ('Heal The World', 'http://www.songlyrics.com/michael-jackson/heal-the-world-lyrics/'), ('Smack That', 'http://www.songlyrics.com/akon/smack-that-lyrics/'), ('Cooler Than Me (Single Remix)', 'http://www.songlyrics.com/mike-posner/cooler-than-me-single-remix-lyrics/'), ('Respect', 'http://www.songlyrics.com/aretha-franklin/respect-lyrics/'), ('I Look To You', 'http://www.songlyrics.com/whitney-houston/i-look-to-you-lyrics/'), ('Ordinary People', 'http://www.songlyrics.com/john-legend/ordinary-people-lyrics/'), ('How Do You Heal A Broken Heart', 'http://www.songlyrics.com/walker-chris/how-do-you-heal-a-broken-heart-lyrics/'), ('Birthday Sex', 'http://www.songlyrics.com/jeremih/birthday-sex-lyrics/'), ('Listen', 'http://www.songlyrics.com/beyonce-knowles/listen-lyrics/'), ('For You', 'http://www.songlyrics.com/kenny-lattimore/for-you-lyrics/'), ('No One', 'http://www.songlyrics.com/alicia-keys/no-one-lyrics/'), ('As', 'http://www.songlyrics.com/stevie-wonder/as-lyrics/'), ('Black or White', 'http://www.songlyrics.com/michael-jackson/black-or-white-lyrics/'), ('Who You Are', 'http://www.songlyrics.com/jessie-j/who-you-are-lyrics/'), (\"If I Ain't Got You\", 'http://www.songlyrics.com/alicia-keys/if-i-ain-t-got-you-lyrics/'), ('Halo', ''), ('Billie Jean', ''), ('Beat It', ''), ('Beautiful', ''), ('S&M', ''), ('Heal The World', ''), ('Smack That', ''), ('Cooler Than Me (Single Remix)', ''), ('Respect', ''), ('I Look To You', ''), ('Ordinary People', ''), ('How Do You Heal A Broken Heart', ''), ('Birthday Sex', ''), ('Listen', ''), ('For You', ''), ('No One', ''), ('As', ''), ('Black or White', ''), ('Who You Are', ''), (\"If I Ain't Got You\", ''), ('Halo', 'Beyonce Knowles'), ('Billie Jean', 'Michael Jackson'), ('Beat It', 'Michael Jackson'), ('Beautiful', 'Akon'), ('S&M', 'Rihanna'), ('Heal The World', 'Michael Jackson'), ('Smack That', 'Akon'), ('Cooler Than Me (Single Remix)', 'Mike Posner'), ('Respect', 'Aretha Franklin'), ('I Look To You', 'Whitney Houston'), ('Ordinary People', 'John Legend'), ('How Do You Heal A Broken Heart', 'Walker Chris'), ('Birthday Sex', 'Jeremih'), ('Listen', 'Beyonce Knowles'), ('For You', 'Kenny Lattimore'), ('No One', 'Alicia Keys'), ('As', 'Stevie Wonder'), ('Black or White', 'Michael Jackson'), ('Who You Are', 'Jessie J'), (\"If I Ain't Got You\", 'Alicia Keys'), ('Halo', 'Beyonce Knowles'), ('Billie Jean', 'Michael Jackson'), ('Beat It', 'Michael Jackson'), ('Beautiful', 'Akon'), ('S&M', 'Rihanna'), ('Heal The World', 'Michael Jackson'), ('Smack That', 'Akon'), ('Cooler Than Me (Single Remix)', 'Mike Posner'), ('Respect', 'Aretha Franklin'), ('I Look To You', 'Whitney Houston'), ('Ordinary People', 'John Legend'), ('How Do You Heal A Broken Heart', 'Walker Chris'), ('Birthday Sex', 'Jeremih'), ('Listen', 'Beyonce Knowles'), ('For You', 'Kenny Lattimore'), ('No One', 'Alicia Keys'), ('As', 'Stevie Wonder'), ('Black or White', 'Michael Jackson'), ('Who You Are', 'Jessie J'), (\"If I Ain't Got You\", 'Alicia Keys')]\n"
     ]
    }
   ],
   "source": [
    "print(items)"
   ]
  },
  {
   "cell_type": "code",
   "execution_count": 123,
   "id": "5ef8147a",
   "metadata": {},
   "outputs": [
    {
     "data": {
      "text/plain": [
       "'Halo'"
      ]
     },
     "execution_count": 123,
     "metadata": {},
     "output_type": "execute_result"
    }
   ],
   "source": [
    "entire_table.find('h3').text"
   ]
  },
  {
   "cell_type": "code",
   "execution_count": 124,
   "id": "3077edf3",
   "metadata": {},
   "outputs": [],
   "source": [
    "def getText(s):\n",
    "    t =  s.find('h3').text\n",
    "    return t"
   ]
  },
  {
   "cell_type": "code",
   "execution_count": 125,
   "id": "c9c18da2",
   "metadata": {},
   "outputs": [],
   "source": [
    "def getImage():\n",
    "    find_image = entire_table.find('img', attrs={\"class\": \"tiny-img\"})\n",
    "    imgfile = find_image.get(\"src\")\n",
    "    im = Image.open(requests.get(imgfile, stream=True).raw)\n",
    "    return im"
   ]
  },
  {
   "cell_type": "code",
   "execution_count": 119,
   "id": "df6e769f",
   "metadata": {},
   "outputs": [
    {
     "ename": "AttributeError",
     "evalue": "'int' object has no attribute 'text'",
     "output_type": "error",
     "traceback": [
      "\u001b[0;31m---------------------------------------------------------------------------\u001b[0m",
      "\u001b[0;31mAttributeError\u001b[0m                            Traceback (most recent call last)",
      "\u001b[0;32m/var/folders/y3/dz0fw91949n08kl1j6nxbd040000gn/T/ipykernel_35716/1361869337.py\u001b[0m in \u001b[0;36m<module>\u001b[0;34m\u001b[0m\n\u001b[1;32m      1\u001b[0m \u001b[0;32mfor\u001b[0m \u001b[0mitem\u001b[0m \u001b[0;32min\u001b[0m \u001b[0mentire_table\u001b[0m\u001b[0;34m:\u001b[0m\u001b[0;34m\u001b[0m\u001b[0;34m\u001b[0m\u001b[0m\n\u001b[0;32m----> 2\u001b[0;31m     \u001b[0mim\u001b[0m \u001b[0;34m=\u001b[0m \u001b[0mgetText\u001b[0m\u001b[0;34m(\u001b[0m\u001b[0mstr\u001b[0m\u001b[0;34m(\u001b[0m\u001b[0mitem\u001b[0m\u001b[0;34m)\u001b[0m\u001b[0;34m)\u001b[0m\u001b[0;34m\u001b[0m\u001b[0;34m\u001b[0m\u001b[0m\n\u001b[0m\u001b[1;32m      3\u001b[0m     \u001b[0mprint\u001b[0m\u001b[0;34m(\u001b[0m\u001b[0mim\u001b[0m\u001b[0;34m)\u001b[0m\u001b[0;34m\u001b[0m\u001b[0;34m\u001b[0m\u001b[0m\n",
      "\u001b[0;32m/var/folders/y3/dz0fw91949n08kl1j6nxbd040000gn/T/ipykernel_35716/372970494.py\u001b[0m in \u001b[0;36mgetText\u001b[0;34m(s)\u001b[0m\n\u001b[1;32m      1\u001b[0m \u001b[0;32mdef\u001b[0m \u001b[0mgetText\u001b[0m\u001b[0;34m(\u001b[0m\u001b[0ms\u001b[0m\u001b[0;34m)\u001b[0m\u001b[0;34m:\u001b[0m\u001b[0;34m\u001b[0m\u001b[0;34m\u001b[0m\u001b[0m\n\u001b[0;32m----> 2\u001b[0;31m     \u001b[0mt\u001b[0m \u001b[0;34m=\u001b[0m  \u001b[0ms\u001b[0m\u001b[0;34m.\u001b[0m\u001b[0mfind\u001b[0m\u001b[0;34m(\u001b[0m\u001b[0;34m'h3'\u001b[0m\u001b[0;34m)\u001b[0m\u001b[0;34m.\u001b[0m\u001b[0mtext\u001b[0m\u001b[0;34m\u001b[0m\u001b[0;34m\u001b[0m\u001b[0m\n\u001b[0m\u001b[1;32m      3\u001b[0m     \u001b[0;32mreturn\u001b[0m \u001b[0mt\u001b[0m\u001b[0;34m\u001b[0m\u001b[0;34m\u001b[0m\u001b[0m\n",
      "\u001b[0;31mAttributeError\u001b[0m: 'int' object has no attribute 'text'"
     ]
    }
   ],
   "source": [
    "for item in entire_table:\n",
    "    im = getText(str(item))\n",
    "    print(im)"
   ]
  },
  {
   "cell_type": "code",
   "execution_count": null,
   "id": "651e5122",
   "metadata": {},
   "outputs": [],
   "source": []
  }
 ],
 "metadata": {
  "kernelspec": {
   "display_name": "Python 3 (ipykernel)",
   "language": "python",
   "name": "python3"
  },
  "language_info": {
   "codemirror_mode": {
    "name": "ipython",
    "version": 3
   },
   "file_extension": ".py",
   "mimetype": "text/x-python",
   "name": "python",
   "nbconvert_exporter": "python",
   "pygments_lexer": "ipython3",
   "version": "3.9.7"
  }
 },
 "nbformat": 4,
 "nbformat_minor": 5
}
